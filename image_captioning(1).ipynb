{
  "nbformat": 4,
  "nbformat_minor": 0,
  "metadata": {
    "colab": {
      "provenance": [],
      "gpuType": "T4"
    },
    "kernelspec": {
      "name": "python3",
      "display_name": "Python 3"
    },
    "language_info": {
      "name": "python"
    },
    "accelerator": "GPU"
  },
  "cells": [
    {
      "cell_type": "code",
      "execution_count": 1,
      "metadata": {
        "colab": {
          "base_uri": "https://localhost:8080/"
        },
        "id": "j77JGAcTKvLD",
        "outputId": "3d0dce7b-0b85-42c8-cce5-09f02708f827"
      },
      "outputs": [
        {
          "output_type": "stream",
          "name": "stdout",
          "text": [
            "Path to dataset files: /root/.cache/kagglehub/datasets/hammadjavaid/6992-labeled-meme-images-dataset/versions/1\n"
          ]
        }
      ],
      "source": [
        "import kagglehub\n",
        "\n",
        "path = kagglehub.dataset_download(\"hammadjavaid/6992-labeled-meme-images-dataset\")\n",
        "\n",
        "print(\"Path to dataset files:\", path)"
      ]
    },
    {
      "cell_type": "code",
      "source": [
        "import os\n",
        "import pandas as pd\n",
        "from PIL import Image\n",
        "import torch\n",
        "from torch import nn\n",
        "from torch.utils.data import Dataset, DataLoader\n",
        "from torchvision import transforms, models\n",
        "from transformers import BertTokenizer, BertModel\n"
      ],
      "metadata": {
        "id": "rEdZ4EWHMRtl"
      },
      "execution_count": 2,
      "outputs": []
    },
    {
      "cell_type": "code",
      "source": [
        "\n",
        "images_path = \"/root/.cache/kagglehub/datasets/hammadjavaid/6992-labeled-meme-images-dataset/versions/1/images/images\"\n",
        "labels_file = \"/root/.cache/kagglehub/datasets/hammadjavaid/6992-labeled-meme-images-dataset/versions/1/labels.csv\"\n",
        "\n",
        "data = pd.read_csv(labels_file)\n",
        "\n",
        "data"
      ],
      "metadata": {
        "colab": {
          "base_uri": "https://localhost:8080/",
          "height": 424
        },
        "id": "fkWh5KeHN1Ta",
        "outputId": "345471fa-b73a-4891-8d3b-ad9d25ca970e"
      },
      "execution_count": 3,
      "outputs": [
        {
          "output_type": "execute_result",
          "data": {
            "text/plain": [
              "      Unnamed: 0      image_name  \\\n",
              "0              0     image_1.jpg   \n",
              "1              1    image_2.jpeg   \n",
              "2              2     image_3.JPG   \n",
              "3              3     image_4.png   \n",
              "4              4     image_5.png   \n",
              "...          ...             ...   \n",
              "6987        6987  image_6988.jpg   \n",
              "6988        6988  image_6989.jpg   \n",
              "6989        6989  image_6990.png   \n",
              "6990        6990  image_6991.jpg   \n",
              "6991        6991  image_6992.jpg   \n",
              "\n",
              "                                               text_ocr  \\\n",
              "0     LOOK THERE MY FRIEND LIGHTYEAR NOW ALL SOHALIK...   \n",
              "1     The best of #10 YearChallenge! Completed in le...   \n",
              "2     Sam Thorne @Strippin ( Follow Follow Saw every...   \n",
              "3                 10 Year Challenge - Sweet Dee Edition   \n",
              "4     10 YEAR CHALLENGE WITH NO FILTER 47 Hilarious ...   \n",
              "...                                                 ...   \n",
              "6987  Tuesday is Mardi Gras Wednesday is Valentine's...   \n",
              "6988  MUST WATCH MOVIES OF 2017 ITI Chennai memes MA...   \n",
              "6989  LESS MORE TALKING PLANNING SODA JUNK FOOD COMP...   \n",
              "6990  When I VERY have time is a fantasy No one has ...   \n",
              "6991  The starting point for every good idea is \"Wha...   \n",
              "\n",
              "                                         text_corrected overall_sentiment  \n",
              "0     LOOK THERE MY FRIEND LIGHTYEAR NOW ALL SOHALIK...     very_positive  \n",
              "1     The best of #10 YearChallenge! Completed in le...     very_positive  \n",
              "2     Sam Thorne @Strippin ( Follow Follow Saw every...          positive  \n",
              "3                 10 Year Challenge - Sweet Dee Edition          positive  \n",
              "4     10 YEAR CHALLENGE WITH NO FILTER 47 Hilarious ...           neutral  \n",
              "...                                                 ...               ...  \n",
              "6987  Tuesday is Mardi Gras Wednesday is Valentine's...           neutral  \n",
              "6988  MUST WATCH MOVIES OF 2017 ITI Chennai memes MA...           neutral  \n",
              "6989  LESS MORE TALKING PLANNING SODA JUNK FOOD COMP...          positive  \n",
              "6990  When I have time is a fantasy. no one has time...     very_positive  \n",
              "6991  The starting point for every good idea is \"Wha...          positive  \n",
              "\n",
              "[6992 rows x 5 columns]"
            ],
            "text/html": [
              "\n",
              "  <div id=\"df-a4a11dad-c2d6-45a8-bd5a-9dc2cb2ab8c4\" class=\"colab-df-container\">\n",
              "    <div>\n",
              "<style scoped>\n",
              "    .dataframe tbody tr th:only-of-type {\n",
              "        vertical-align: middle;\n",
              "    }\n",
              "\n",
              "    .dataframe tbody tr th {\n",
              "        vertical-align: top;\n",
              "    }\n",
              "\n",
              "    .dataframe thead th {\n",
              "        text-align: right;\n",
              "    }\n",
              "</style>\n",
              "<table border=\"1\" class=\"dataframe\">\n",
              "  <thead>\n",
              "    <tr style=\"text-align: right;\">\n",
              "      <th></th>\n",
              "      <th>Unnamed: 0</th>\n",
              "      <th>image_name</th>\n",
              "      <th>text_ocr</th>\n",
              "      <th>text_corrected</th>\n",
              "      <th>overall_sentiment</th>\n",
              "    </tr>\n",
              "  </thead>\n",
              "  <tbody>\n",
              "    <tr>\n",
              "      <th>0</th>\n",
              "      <td>0</td>\n",
              "      <td>image_1.jpg</td>\n",
              "      <td>LOOK THERE MY FRIEND LIGHTYEAR NOW ALL SOHALIK...</td>\n",
              "      <td>LOOK THERE MY FRIEND LIGHTYEAR NOW ALL SOHALIK...</td>\n",
              "      <td>very_positive</td>\n",
              "    </tr>\n",
              "    <tr>\n",
              "      <th>1</th>\n",
              "      <td>1</td>\n",
              "      <td>image_2.jpeg</td>\n",
              "      <td>The best of #10 YearChallenge! Completed in le...</td>\n",
              "      <td>The best of #10 YearChallenge! Completed in le...</td>\n",
              "      <td>very_positive</td>\n",
              "    </tr>\n",
              "    <tr>\n",
              "      <th>2</th>\n",
              "      <td>2</td>\n",
              "      <td>image_3.JPG</td>\n",
              "      <td>Sam Thorne @Strippin ( Follow Follow Saw every...</td>\n",
              "      <td>Sam Thorne @Strippin ( Follow Follow Saw every...</td>\n",
              "      <td>positive</td>\n",
              "    </tr>\n",
              "    <tr>\n",
              "      <th>3</th>\n",
              "      <td>3</td>\n",
              "      <td>image_4.png</td>\n",
              "      <td>10 Year Challenge - Sweet Dee Edition</td>\n",
              "      <td>10 Year Challenge - Sweet Dee Edition</td>\n",
              "      <td>positive</td>\n",
              "    </tr>\n",
              "    <tr>\n",
              "      <th>4</th>\n",
              "      <td>4</td>\n",
              "      <td>image_5.png</td>\n",
              "      <td>10 YEAR CHALLENGE WITH NO FILTER 47 Hilarious ...</td>\n",
              "      <td>10 YEAR CHALLENGE WITH NO FILTER 47 Hilarious ...</td>\n",
              "      <td>neutral</td>\n",
              "    </tr>\n",
              "    <tr>\n",
              "      <th>...</th>\n",
              "      <td>...</td>\n",
              "      <td>...</td>\n",
              "      <td>...</td>\n",
              "      <td>...</td>\n",
              "      <td>...</td>\n",
              "    </tr>\n",
              "    <tr>\n",
              "      <th>6987</th>\n",
              "      <td>6987</td>\n",
              "      <td>image_6988.jpg</td>\n",
              "      <td>Tuesday is Mardi Gras Wednesday is Valentine's...</td>\n",
              "      <td>Tuesday is Mardi Gras Wednesday is Valentine's...</td>\n",
              "      <td>neutral</td>\n",
              "    </tr>\n",
              "    <tr>\n",
              "      <th>6988</th>\n",
              "      <td>6988</td>\n",
              "      <td>image_6989.jpg</td>\n",
              "      <td>MUST WATCH MOVIES OF 2017 ITI Chennai memes MA...</td>\n",
              "      <td>MUST WATCH MOVIES OF 2017 ITI Chennai memes MA...</td>\n",
              "      <td>neutral</td>\n",
              "    </tr>\n",
              "    <tr>\n",
              "      <th>6989</th>\n",
              "      <td>6989</td>\n",
              "      <td>image_6990.png</td>\n",
              "      <td>LESS MORE TALKING PLANNING SODA JUNK FOOD COMP...</td>\n",
              "      <td>LESS MORE TALKING PLANNING SODA JUNK FOOD COMP...</td>\n",
              "      <td>positive</td>\n",
              "    </tr>\n",
              "    <tr>\n",
              "      <th>6990</th>\n",
              "      <td>6990</td>\n",
              "      <td>image_6991.jpg</td>\n",
              "      <td>When I VERY have time is a fantasy No one has ...</td>\n",
              "      <td>When I have time is a fantasy. no one has time...</td>\n",
              "      <td>very_positive</td>\n",
              "    </tr>\n",
              "    <tr>\n",
              "      <th>6991</th>\n",
              "      <td>6991</td>\n",
              "      <td>image_6992.jpg</td>\n",
              "      <td>The starting point for every good idea is \"Wha...</td>\n",
              "      <td>The starting point for every good idea is \"Wha...</td>\n",
              "      <td>positive</td>\n",
              "    </tr>\n",
              "  </tbody>\n",
              "</table>\n",
              "<p>6992 rows × 5 columns</p>\n",
              "</div>\n",
              "    <div class=\"colab-df-buttons\">\n",
              "\n",
              "  <div class=\"colab-df-container\">\n",
              "    <button class=\"colab-df-convert\" onclick=\"convertToInteractive('df-a4a11dad-c2d6-45a8-bd5a-9dc2cb2ab8c4')\"\n",
              "            title=\"Convert this dataframe to an interactive table.\"\n",
              "            style=\"display:none;\">\n",
              "\n",
              "  <svg xmlns=\"http://www.w3.org/2000/svg\" height=\"24px\" viewBox=\"0 -960 960 960\">\n",
              "    <path d=\"M120-120v-720h720v720H120Zm60-500h600v-160H180v160Zm220 220h160v-160H400v160Zm0 220h160v-160H400v160ZM180-400h160v-160H180v160Zm440 0h160v-160H620v160ZM180-180h160v-160H180v160Zm440 0h160v-160H620v160Z\"/>\n",
              "  </svg>\n",
              "    </button>\n",
              "\n",
              "  <style>\n",
              "    .colab-df-container {\n",
              "      display:flex;\n",
              "      gap: 12px;\n",
              "    }\n",
              "\n",
              "    .colab-df-convert {\n",
              "      background-color: #E8F0FE;\n",
              "      border: none;\n",
              "      border-radius: 50%;\n",
              "      cursor: pointer;\n",
              "      display: none;\n",
              "      fill: #1967D2;\n",
              "      height: 32px;\n",
              "      padding: 0 0 0 0;\n",
              "      width: 32px;\n",
              "    }\n",
              "\n",
              "    .colab-df-convert:hover {\n",
              "      background-color: #E2EBFA;\n",
              "      box-shadow: 0px 1px 2px rgba(60, 64, 67, 0.3), 0px 1px 3px 1px rgba(60, 64, 67, 0.15);\n",
              "      fill: #174EA6;\n",
              "    }\n",
              "\n",
              "    .colab-df-buttons div {\n",
              "      margin-bottom: 4px;\n",
              "    }\n",
              "\n",
              "    [theme=dark] .colab-df-convert {\n",
              "      background-color: #3B4455;\n",
              "      fill: #D2E3FC;\n",
              "    }\n",
              "\n",
              "    [theme=dark] .colab-df-convert:hover {\n",
              "      background-color: #434B5C;\n",
              "      box-shadow: 0px 1px 3px 1px rgba(0, 0, 0, 0.15);\n",
              "      filter: drop-shadow(0px 1px 2px rgba(0, 0, 0, 0.3));\n",
              "      fill: #FFFFFF;\n",
              "    }\n",
              "  </style>\n",
              "\n",
              "    <script>\n",
              "      const buttonEl =\n",
              "        document.querySelector('#df-a4a11dad-c2d6-45a8-bd5a-9dc2cb2ab8c4 button.colab-df-convert');\n",
              "      buttonEl.style.display =\n",
              "        google.colab.kernel.accessAllowed ? 'block' : 'none';\n",
              "\n",
              "      async function convertToInteractive(key) {\n",
              "        const element = document.querySelector('#df-a4a11dad-c2d6-45a8-bd5a-9dc2cb2ab8c4');\n",
              "        const dataTable =\n",
              "          await google.colab.kernel.invokeFunction('convertToInteractive',\n",
              "                                                    [key], {});\n",
              "        if (!dataTable) return;\n",
              "\n",
              "        const docLinkHtml = 'Like what you see? Visit the ' +\n",
              "          '<a target=\"_blank\" href=https://colab.research.google.com/notebooks/data_table.ipynb>data table notebook</a>'\n",
              "          + ' to learn more about interactive tables.';\n",
              "        element.innerHTML = '';\n",
              "        dataTable['output_type'] = 'display_data';\n",
              "        await google.colab.output.renderOutput(dataTable, element);\n",
              "        const docLink = document.createElement('div');\n",
              "        docLink.innerHTML = docLinkHtml;\n",
              "        element.appendChild(docLink);\n",
              "      }\n",
              "    </script>\n",
              "  </div>\n",
              "\n",
              "\n",
              "<div id=\"df-20827954-d524-4f0a-afa5-e78a3a98e5c6\">\n",
              "  <button class=\"colab-df-quickchart\" onclick=\"quickchart('df-20827954-d524-4f0a-afa5-e78a3a98e5c6')\"\n",
              "            title=\"Suggest charts\"\n",
              "            style=\"display:none;\">\n",
              "\n",
              "<svg xmlns=\"http://www.w3.org/2000/svg\" height=\"24px\"viewBox=\"0 0 24 24\"\n",
              "     width=\"24px\">\n",
              "    <g>\n",
              "        <path d=\"M19 3H5c-1.1 0-2 .9-2 2v14c0 1.1.9 2 2 2h14c1.1 0 2-.9 2-2V5c0-1.1-.9-2-2-2zM9 17H7v-7h2v7zm4 0h-2V7h2v10zm4 0h-2v-4h2v4z\"/>\n",
              "    </g>\n",
              "</svg>\n",
              "  </button>\n",
              "\n",
              "<style>\n",
              "  .colab-df-quickchart {\n",
              "      --bg-color: #E8F0FE;\n",
              "      --fill-color: #1967D2;\n",
              "      --hover-bg-color: #E2EBFA;\n",
              "      --hover-fill-color: #174EA6;\n",
              "      --disabled-fill-color: #AAA;\n",
              "      --disabled-bg-color: #DDD;\n",
              "  }\n",
              "\n",
              "  [theme=dark] .colab-df-quickchart {\n",
              "      --bg-color: #3B4455;\n",
              "      --fill-color: #D2E3FC;\n",
              "      --hover-bg-color: #434B5C;\n",
              "      --hover-fill-color: #FFFFFF;\n",
              "      --disabled-bg-color: #3B4455;\n",
              "      --disabled-fill-color: #666;\n",
              "  }\n",
              "\n",
              "  .colab-df-quickchart {\n",
              "    background-color: var(--bg-color);\n",
              "    border: none;\n",
              "    border-radius: 50%;\n",
              "    cursor: pointer;\n",
              "    display: none;\n",
              "    fill: var(--fill-color);\n",
              "    height: 32px;\n",
              "    padding: 0;\n",
              "    width: 32px;\n",
              "  }\n",
              "\n",
              "  .colab-df-quickchart:hover {\n",
              "    background-color: var(--hover-bg-color);\n",
              "    box-shadow: 0 1px 2px rgba(60, 64, 67, 0.3), 0 1px 3px 1px rgba(60, 64, 67, 0.15);\n",
              "    fill: var(--button-hover-fill-color);\n",
              "  }\n",
              "\n",
              "  .colab-df-quickchart-complete:disabled,\n",
              "  .colab-df-quickchart-complete:disabled:hover {\n",
              "    background-color: var(--disabled-bg-color);\n",
              "    fill: var(--disabled-fill-color);\n",
              "    box-shadow: none;\n",
              "  }\n",
              "\n",
              "  .colab-df-spinner {\n",
              "    border: 2px solid var(--fill-color);\n",
              "    border-color: transparent;\n",
              "    border-bottom-color: var(--fill-color);\n",
              "    animation:\n",
              "      spin 1s steps(1) infinite;\n",
              "  }\n",
              "\n",
              "  @keyframes spin {\n",
              "    0% {\n",
              "      border-color: transparent;\n",
              "      border-bottom-color: var(--fill-color);\n",
              "      border-left-color: var(--fill-color);\n",
              "    }\n",
              "    20% {\n",
              "      border-color: transparent;\n",
              "      border-left-color: var(--fill-color);\n",
              "      border-top-color: var(--fill-color);\n",
              "    }\n",
              "    30% {\n",
              "      border-color: transparent;\n",
              "      border-left-color: var(--fill-color);\n",
              "      border-top-color: var(--fill-color);\n",
              "      border-right-color: var(--fill-color);\n",
              "    }\n",
              "    40% {\n",
              "      border-color: transparent;\n",
              "      border-right-color: var(--fill-color);\n",
              "      border-top-color: var(--fill-color);\n",
              "    }\n",
              "    60% {\n",
              "      border-color: transparent;\n",
              "      border-right-color: var(--fill-color);\n",
              "    }\n",
              "    80% {\n",
              "      border-color: transparent;\n",
              "      border-right-color: var(--fill-color);\n",
              "      border-bottom-color: var(--fill-color);\n",
              "    }\n",
              "    90% {\n",
              "      border-color: transparent;\n",
              "      border-bottom-color: var(--fill-color);\n",
              "    }\n",
              "  }\n",
              "</style>\n",
              "\n",
              "  <script>\n",
              "    async function quickchart(key) {\n",
              "      const quickchartButtonEl =\n",
              "        document.querySelector('#' + key + ' button');\n",
              "      quickchartButtonEl.disabled = true;  // To prevent multiple clicks.\n",
              "      quickchartButtonEl.classList.add('colab-df-spinner');\n",
              "      try {\n",
              "        const charts = await google.colab.kernel.invokeFunction(\n",
              "            'suggestCharts', [key], {});\n",
              "      } catch (error) {\n",
              "        console.error('Error during call to suggestCharts:', error);\n",
              "      }\n",
              "      quickchartButtonEl.classList.remove('colab-df-spinner');\n",
              "      quickchartButtonEl.classList.add('colab-df-quickchart-complete');\n",
              "    }\n",
              "    (() => {\n",
              "      let quickchartButtonEl =\n",
              "        document.querySelector('#df-20827954-d524-4f0a-afa5-e78a3a98e5c6 button');\n",
              "      quickchartButtonEl.style.display =\n",
              "        google.colab.kernel.accessAllowed ? 'block' : 'none';\n",
              "    })();\n",
              "  </script>\n",
              "</div>\n",
              "    </div>\n",
              "  </div>\n"
            ],
            "application/vnd.google.colaboratory.intrinsic+json": {
              "type": "dataframe",
              "variable_name": "data",
              "summary": "{\n  \"name\": \"data\",\n  \"rows\": 6992,\n  \"fields\": [\n    {\n      \"column\": \"Unnamed: 0\",\n      \"properties\": {\n        \"dtype\": \"number\",\n        \"std\": 2018,\n        \"min\": 0,\n        \"max\": 6991,\n        \"num_unique_values\": 6992,\n        \"samples\": [\n          4498,\n          3936,\n          5059\n        ],\n        \"semantic_type\": \"\",\n        \"description\": \"\"\n      }\n    },\n    {\n      \"column\": \"image_name\",\n      \"properties\": {\n        \"dtype\": \"string\",\n        \"num_unique_values\": 6992,\n        \"samples\": [\n          \"image_4499.jpg\",\n          \"image_3937.jpeg\",\n          \"image_5060.jpg\"\n        ],\n        \"semantic_type\": \"\",\n        \"description\": \"\"\n      }\n    },\n    {\n      \"column\": \"text_ocr\",\n      \"properties\": {\n        \"dtype\": \"string\",\n        \"num_unique_values\": 6635,\n        \"samples\": [\n          \"MUSIC FROM THE 80S &70S ME MODERN MUSIC\",\n          \"IF A TREE FALLS IN WASHINGTON INSTALARE DOES ANYBODY HEAR IT OR IS IT OBAMA'S FAULT? More funny Obama memes: http://bit.ly/agBCjz\",\n          \"THANKS TO ALL THE ALIENS FOR MAKING MY MEMES POSSIBLE imgflip.com\"\n        ],\n        \"semantic_type\": \"\",\n        \"description\": \"\"\n      }\n    },\n    {\n      \"column\": \"text_corrected\",\n      \"properties\": {\n        \"dtype\": \"string\",\n        \"num_unique_values\": 6935,\n        \"samples\": [\n          \"Mark Zuckerberg October 31 at 6:10pm I find it funny how humans enjoy wearing the skin of others as a holiday. They don't know that this is a reality for me every day.\",\n          \"ALL THESE RACIST MEMES ARE REALLY GETTING TO ME.memegenerator.net\",\n          \"AND THE SUPERBOWL WINNERS ARE........ THE BUFFALO BILLS!!!!! memeshappen.com\"\n        ],\n        \"semantic_type\": \"\",\n        \"description\": \"\"\n      }\n    },\n    {\n      \"column\": \"overall_sentiment\",\n      \"properties\": {\n        \"dtype\": \"category\",\n        \"num_unique_values\": 5,\n        \"samples\": [\n          \"positive\",\n          \"very_negative\",\n          \"neutral\"\n        ],\n        \"semantic_type\": \"\",\n        \"description\": \"\"\n      }\n    }\n  ]\n}"
            }
          },
          "metadata": {},
          "execution_count": 3
        }
      ]
    },
    {
      "cell_type": "code",
      "source": [
        "class MemeDataset(Dataset):\n",
        "    def __init__(self, data, images_path, transform=None, tokenizer=None, max_len=50):\n",
        "        self.data = data\n",
        "        self.images_path = images_path\n",
        "        self.transform = transform\n",
        "        self.tokenizer = tokenizer\n",
        "        self.max_len = max_len\n",
        "\n",
        "    def __len__(self):\n",
        "        return len(self.data)\n",
        "\n",
        "    def __getitem__(self, idx):\n",
        "        image_id = self.data.iloc[idx]['image_name']\n",
        "        image_path = os.path.join(self.images_path, image_id)\n",
        "        label = str(self.data.iloc[idx]['text_corrected'])\n",
        "\n",
        "        try:\n",
        "            image = Image.open(image_path).convert(\"RGB\")\n",
        "            if self.transform:\n",
        "                image = self.transform(image)\n",
        "        except (OSError, IOError):\n",
        "            return None\n",
        "\n",
        "        tokens = self.tokenizer(label, padding='max_length', max_length=self.max_len, truncation=True, return_tensors=\"pt\")\n",
        "\n",
        "        return image, tokens.input_ids.flatten(), tokens.attention_mask.flatten()\n"
      ],
      "metadata": {
        "id": "PBtic7i0OEVP"
      },
      "execution_count": 4,
      "outputs": []
    },
    {
      "cell_type": "code",
      "source": [
        "class MemeCaptioningModel(nn.Module):\n",
        "    def __init__(self, feature_dim, hidden_dim, vocab_size, max_len=50):\n",
        "        super(MemeCaptioningModel, self).__init__()\n",
        "\n",
        "        self.encoder = models.resnet50(pretrained=True)\n",
        "        self.encoder.fc = nn.Linear(self.encoder.fc.in_features, feature_dim)\n",
        "\n",
        "        # Decoder: LSTM для генерации текста\n",
        "        self.lstm = nn.LSTM(input_size=feature_dim, hidden_size=hidden_dim, num_layers=1, batch_first=True)\n",
        "        self.fc = nn.Linear(hidden_dim, vocab_size)\n",
        "\n",
        "    def forward(self, images, captions):\n",
        "        features = self.encoder(images)\n",
        "        features = features.unsqueeze(1).repeat(1, captions.size(1), 1)\n",
        "        lstm_out, _ = self.lstm(features)\n",
        "        outputs = self.fc(lstm_out)\n",
        "        return outputs\n"
      ],
      "metadata": {
        "id": "S6HjpfRyOaIb"
      },
      "execution_count": 5,
      "outputs": []
    },
    {
      "cell_type": "code",
      "source": [
        "def collate_fn(batch):\n",
        "    batch = [item for item in batch if item is not None]\n",
        "    return torch.utils.data.default_collate(batch)\n"
      ],
      "metadata": {
        "id": "q6CBKLbSWG7D"
      },
      "execution_count": 6,
      "outputs": []
    },
    {
      "cell_type": "code",
      "source": [
        "import torch\n",
        "from PIL import Image\n",
        "from transformers import BertTokenizer\n",
        "\n",
        "def generate_caption(image_path, model, tokenizer, max_len=50, device='cuda'):\n",
        "    image = Image.open(image_path).convert(\"RGB\")\n",
        "    transform = transforms.Compose([\n",
        "        transforms.Resize((224, 224)),\n",
        "        transforms.ToTensor(),\n",
        "    ])\n",
        "    image = transform(image).unsqueeze(0).to(device)\n",
        "\n",
        "    model.eval()\n",
        "\n",
        "    caption = [tokenizer.cls_token_id]\n",
        "    attention_mask = torch.ones(1, max_len).to(device)\n",
        "\n",
        "    with torch.no_grad():\n",
        "        for _ in range(max_len - 1):\n",
        "            input_ids = torch.tensor(caption).unsqueeze(0).to(device)\n",
        "            outputs = model(image, input_ids)\n",
        "\n",
        "            next_token_id = outputs[0, -1, :].argmax(dim=-1).item()\n",
        "\n",
        "            caption.append(next_token_id)\n",
        "\n",
        "            if next_token_id == tokenizer.sep_token_id:\n",
        "                break\n",
        "\n",
        "    caption_text = tokenizer.decode(caption, skip_special_tokens=True)\n",
        "    return caption_text"
      ],
      "metadata": {
        "id": "pe63ywYaj6U_"
      },
      "execution_count": 7,
      "outputs": []
    },
    {
      "cell_type": "code",
      "source": [
        "from tqdm import tqdm\n",
        "from torch.utils.data import DataLoader\n",
        "\n",
        "feature_dim = 512\n",
        "hidden_dim = 1024\n",
        "max_len = 50\n",
        "batch_size = 32\n",
        "epochs = 40\n",
        "learning_rate = 1e-4\n",
        "\n",
        "tokenizer = BertTokenizer.from_pretrained('bert-base-uncased')\n",
        "vocab_size = tokenizer.vocab_size\n",
        "\n",
        "transform = transforms.Compose([\n",
        "    transforms.Resize((224, 224)),\n",
        "    transforms.ToTensor(),\n",
        "])\n",
        "\n",
        "dataset = MemeDataset(data, images_path, transform=transform, tokenizer=tokenizer, max_len=max_len)\n",
        "\n",
        "def collate_fn(batch):\n",
        "    batch = [item for item in batch if item is not None]\n",
        "    return torch.utils.data.default_collate(batch)\n",
        "\n",
        "dataloader = DataLoader(dataset, batch_size=batch_size, shuffle=True, collate_fn=collate_fn)\n",
        "\n",
        "model = MemeCaptioningModel(feature_dim, hidden_dim, vocab_size).to('cuda')\n",
        "criterion = nn.CrossEntropyLoss()\n",
        "optimizer = torch.optim.Adam(model.parameters(), lr=learning_rate)\n",
        "\n",
        "for epoch in range(epochs):\n",
        "    model.train()\n",
        "    epoch_loss = 0\n",
        "    with tqdm(total=len(dataloader), desc=f\"Epoch {epoch + 1}/{epochs}\") as pbar:\n",
        "        for images, captions, attention_masks in dataloader:\n",
        "            optimizer.zero_grad()\n",
        "            images = images.to('cuda')\n",
        "            captions = captions.to('cuda')\n",
        "            attention_masks = attention_masks.to('cuda')\n",
        "\n",
        "            outputs = model(images, captions)\n",
        "            loss = criterion(outputs.view(-1, vocab_size), captions.view(-1))\n",
        "            loss.backward()\n",
        "            optimizer.step()\n",
        "\n",
        "            epoch_loss += loss.item()\n",
        "            pbar.set_postfix({\"Loss\": f\"{loss.item():.4f}\"})\n",
        "            pbar.update(1)\n",
        "\n",
        "    avg_loss = epoch_loss / len(dataloader)\n",
        "    test_image_path = \"/content/1.jpg\"\n",
        "\n",
        "    caption = generate_caption(test_image_path, model, tokenizer)\n",
        "    print(\"Generated Caption:\", caption)\n",
        "    print(f\"Epoch [{epoch+1}/{epochs}], Average Loss: {avg_loss:.4f}\")\n"
      ],
      "metadata": {
        "colab": {
          "base_uri": "https://localhost:8080/"
        },
        "id": "Z30c9QgLOgyr",
        "outputId": "01e1bc50-cfe4-4680-d495-6bb22da3052b"
      },
      "execution_count": null,
      "outputs": [
        {
          "output_type": "stream",
          "name": "stderr",
          "text": [
            "/usr/local/lib/python3.10/dist-packages/huggingface_hub/utils/_token.py:89: UserWarning: \n",
            "The secret `HF_TOKEN` does not exist in your Colab secrets.\n",
            "To authenticate with the Hugging Face Hub, create a token in your settings tab (https://huggingface.co/settings/tokens), set it as secret in your Google Colab and restart your session.\n",
            "You will be able to reuse this secret in all of your notebooks.\n",
            "Please note that authentication is recommended but still optional to access public models or datasets.\n",
            "  warnings.warn(\n",
            "/usr/local/lib/python3.10/dist-packages/transformers/tokenization_utils_base.py:1601: FutureWarning: `clean_up_tokenization_spaces` was not set. It will be set to `True` by default. This behavior will be depracted in transformers v4.45, and will be then set to `False` by default. For more details check this issue: https://github.com/huggingface/transformers/issues/31884\n",
            "  warnings.warn(\n",
            "/usr/local/lib/python3.10/dist-packages/torchvision/models/_utils.py:208: UserWarning: The parameter 'pretrained' is deprecated since 0.13 and may be removed in the future, please use 'weights' instead.\n",
            "  warnings.warn(\n",
            "/usr/local/lib/python3.10/dist-packages/torchvision/models/_utils.py:223: UserWarning: Arguments other than a weight enum or `None` for 'weights' are deprecated since 0.13 and may be removed in the future. The current behavior is equivalent to passing `weights=ResNet50_Weights.IMAGENET1K_V1`. You can also use `weights=ResNet50_Weights.DEFAULT` to get the most up-to-date weights.\n",
            "  warnings.warn(msg)\n",
            "Epoch 1/40:  12%|█▏        | 26/219 [00:21<02:20,  1.37it/s, Loss=4.5902]/usr/local/lib/python3.10/dist-packages/PIL/Image.py:1056: UserWarning: Palette images with Transparency expressed in bytes should be converted to RGBA images\n",
            "  warnings.warn(\n",
            "Epoch 1/40: 100%|██████████| 219/219 [02:45<00:00,  1.33it/s, Loss=3.3842]\n"
          ]
        },
        {
          "output_type": "stream",
          "name": "stdout",
          "text": [
            "Generated Caption: \n",
            "Epoch [1/40], Average Loss: 3.8650\n"
          ]
        },
        {
          "output_type": "stream",
          "name": "stderr",
          "text": [
            "Epoch 2/40:  43%|████▎     | 94/219 [01:10<01:27,  1.43it/s, Loss=2.5977]/usr/local/lib/python3.10/dist-packages/PIL/Image.py:1056: UserWarning: Palette images with Transparency expressed in bytes should be converted to RGBA images\n",
            "  warnings.warn(\n",
            "Epoch 2/40: 100%|██████████| 219/219 [02:42<00:00,  1.35it/s, Loss=3.1024]\n"
          ]
        },
        {
          "output_type": "stream",
          "name": "stdout",
          "text": [
            "Generated Caption: i\n",
            "Epoch [2/40], Average Loss: 3.1043\n"
          ]
        },
        {
          "output_type": "stream",
          "name": "stderr",
          "text": [
            "Epoch 3/40: 100%|██████████| 219/219 [02:42<00:00,  1.35it/s, Loss=3.2561]\n"
          ]
        },
        {
          "output_type": "stream",
          "name": "stdout",
          "text": [
            "Generated Caption: i i\n",
            "Epoch [3/40], Average Loss: 3.0287\n"
          ]
        },
        {
          "output_type": "stream",
          "name": "stderr",
          "text": [
            "Epoch 4/40: 100%|██████████| 219/219 [02:42<00:00,  1.35it/s, Loss=3.1591]\n"
          ]
        },
        {
          "output_type": "stream",
          "name": "stdout",
          "text": [
            "Generated Caption: i i\n",
            "Epoch [4/40], Average Loss: 2.9871\n"
          ]
        },
        {
          "output_type": "stream",
          "name": "stderr",
          "text": [
            "Epoch 5/40: 100%|██████████| 219/219 [02:41<00:00,  1.36it/s, Loss=2.8461]\n"
          ]
        },
        {
          "output_type": "stream",
          "name": "stdout",
          "text": [
            "Generated Caption: i you\n",
            "Epoch [5/40], Average Loss: 2.9544\n"
          ]
        },
        {
          "output_type": "stream",
          "name": "stderr",
          "text": [
            "Epoch 6/40: 100%|██████████| 219/219 [02:42<00:00,  1.35it/s, Loss=3.2632]\n"
          ]
        },
        {
          "output_type": "stream",
          "name": "stdout",
          "text": [
            "Generated Caption: i you.\n",
            "Epoch [6/40], Average Loss: 2.9133\n"
          ]
        },
        {
          "output_type": "stream",
          "name": "stderr",
          "text": [
            "Epoch 7/40: 100%|██████████| 219/219 [02:41<00:00,  1.35it/s, Loss=2.4394]\n"
          ]
        },
        {
          "output_type": "stream",
          "name": "stdout",
          "text": [
            "Generated Caption: i you\n",
            "Epoch [7/40], Average Loss: 2.8812\n"
          ]
        },
        {
          "output_type": "stream",
          "name": "stderr",
          "text": [
            "Epoch 8/40: 100%|██████████| 219/219 [02:42<00:00,  1.35it/s, Loss=2.6331]\n"
          ]
        },
        {
          "output_type": "stream",
          "name": "stdout",
          "text": [
            "Generated Caption: i you...\n",
            "Epoch [8/40], Average Loss: 2.8585\n"
          ]
        },
        {
          "output_type": "stream",
          "name": "stderr",
          "text": [
            "Epoch 9/40: 100%|██████████| 219/219 [02:42<00:00,  1.35it/s, Loss=2.7388]\n"
          ]
        },
        {
          "output_type": "stream",
          "name": "stdout",
          "text": [
            "Generated Caption: i\n",
            "Epoch [9/40], Average Loss: 2.8379\n"
          ]
        },
        {
          "output_type": "stream",
          "name": "stderr",
          "text": [
            "Epoch 10/40: 100%|██████████| 219/219 [02:45<00:00,  1.32it/s, Loss=3.1134]\n"
          ]
        },
        {
          "output_type": "stream",
          "name": "stdout",
          "text": [
            "Generated Caption: i\n",
            "Epoch [10/40], Average Loss: 2.8169\n"
          ]
        },
        {
          "output_type": "stream",
          "name": "stderr",
          "text": [
            "Epoch 11/40:  10%|▉         | 21/219 [00:15<02:20,  1.41it/s, Loss=2.6313]"
          ]
        }
      ]
    },
    {
      "cell_type": "code",
      "source": [
        "\n"
      ],
      "metadata": {
        "id": "UpVFBqXsPaPl"
      },
      "execution_count": null,
      "outputs": []
    },
    {
      "cell_type": "code",
      "source": [
        "\n",
        "test_image_path = \"/content/1.jpg\"\n",
        "\n",
        "caption = generate_caption(test_image_path, model, tokenizer)\n",
        "print(\"Generated Caption:\", caption)\n"
      ],
      "metadata": {
        "id": "hcxIMchxOlsJ"
      },
      "execution_count": null,
      "outputs": []
    },
    {
      "cell_type": "code",
      "source": [],
      "metadata": {
        "id": "LVCIPMtWoe4Y"
      },
      "execution_count": null,
      "outputs": []
    }
  ]
}